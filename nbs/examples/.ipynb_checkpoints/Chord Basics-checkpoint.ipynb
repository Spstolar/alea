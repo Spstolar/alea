{
 "cells": [
  {
   "cell_type": "code",
   "execution_count": 1,
   "id": "a3b2906b-393c-4261-9fb3-5381ce6f9eb4",
   "metadata": {},
   "outputs": [],
   "source": [
    "from music21 import *"
   ]
  },
  {
   "cell_type": "code",
   "execution_count": 2,
   "id": "3ddd1535-dc50-4482-9a60-482d5eaac17f",
   "metadata": {},
   "outputs": [],
   "source": [
    "elliottCarterChord = chord.Chord(['C4','D-4','E4','F#4'])"
   ]
  },
  {
   "cell_type": "code",
   "execution_count": 3,
   "id": "968a4f29-6d73-4c08-8940-ab74918f0d3c",
   "metadata": {},
   "outputs": [
    {
     "data": {
      "text/plain": [
       "'all-interval tetrachord'"
      ]
     },
     "execution_count": 3,
     "metadata": {},
     "output_type": "execute_result"
    }
   ],
   "source": [
    "elliottCarterChord.commonName"
   ]
  },
  {
   "cell_type": "markdown",
   "id": "6c3c6e9d-0f6b-4197-bef3-a7206c481cdc",
   "metadata": {},
   "source": [
    "In the settings (`~/.music21rc`) we defined the default for `.show()` to launch the full data in MuseScore4. So, running this will launch the object (with notations and everything) in a separate MuseScore window:"
   ]
  },
  {
   "cell_type": "code",
   "execution_count": 4,
   "id": "15e817f5-285a-4c8a-859c-ef2b90f55c0d",
   "metadata": {},
   "outputs": [],
   "source": [
    "elliottCarterChord.show()"
   ]
  },
  {
   "cell_type": "markdown",
   "id": "a1af05b3-13a2-483e-a8f8-0dd13369e072",
   "metadata": {},
   "source": [
    "You can use a simpler MIDI playback here:"
   ]
  },
  {
   "cell_type": "code",
   "execution_count": 7,
   "id": "849c807e-fe87-4bb4-911a-d9597d15ee32",
   "metadata": {},
   "outputs": [
    {
     "data": {
      "text/html": [
       "\n",
       "        <div id=\"midiPlayerDiv61\"></div>\n",
       "        <link rel=\"stylesheet\" href=\"https://cuthbertLab.github.io/music21j/css/m21.css\">\n",
       "        \n",
       "        <script\n",
       "        src=\"https://cdnjs.cloudflare.com/ajax/libs/require.js/2.3.6/require.min.js\"\n",
       "        ></script>\n",
       "    \n",
       "        <script>\n",
       "        function midiPlayerDiv61_play() {\n",
       "            const rq = require.config({\n",
       "                paths: {\n",
       "                    'music21': 'https://cuthbertLab.github.io/music21j/releases/music21.debug',\n",
       "                }\n",
       "            });\n",
       "            rq(['music21'], function(music21) {\n",
       "                mp = new music21.miditools.MidiPlayer();\n",
       "                mp.addPlayer(\"#midiPlayerDiv61\");\n",
       "                mp.base64Load(\"data:audio/midi;base64,TVRoZAAAAAYAAQACJ2BNVHJrAAAAFAD/UQMHoSAA/1gEBAIYCM5g/y8ATVRyawAAAC8A/wMAAOAAQM5gkDxaAJA9WgCQQFoAkEJazmCAPAAAgD0AAIBAAACAQgDOYP8vAA==\");\n",
       "            });\n",
       "        }\n",
       "        if (typeof require === 'undefined') {\n",
       "            setTimeout(midiPlayerDiv61_play, 2000);\n",
       "        } else {\n",
       "            midiPlayerDiv61_play();\n",
       "        }\n",
       "        </script>"
      ],
      "text/plain": [
       "<IPython.core.display.HTML object>"
      ]
     },
     "metadata": {},
     "output_type": "display_data"
    }
   ],
   "source": [
    "elliottCarterChord.show(\"midi\")"
   ]
  },
  {
   "cell_type": "markdown",
   "id": "c32a35a4-1118-4707-9b1c-fa850a7e0686",
   "metadata": {},
   "source": [
    "Launch MIDI playback in MuseScore4 (it will lose non-MIDI data like annotations):"
   ]
  },
  {
   "cell_type": "code",
   "execution_count": 8,
   "id": "c7e1b06a-5f84-44e4-9d3d-fc99ff566c68",
   "metadata": {},
   "outputs": [],
   "source": [
    "elliottCarterChord.show(\"MIDI\")"
   ]
  },
  {
   "cell_type": "markdown",
   "id": "03a5f452-6cbf-4782-94cd-c139943f6522",
   "metadata": {},
   "source": [
    "If you have not set the defaults, to get the full thing (and not just MIDI info) in MuseScore:"
   ]
  },
  {
   "cell_type": "code",
   "execution_count": 10,
   "id": "b85d15fb-97a4-46c2-b768-b721255a9a24",
   "metadata": {},
   "outputs": [],
   "source": [
    "elliottCarterChord.show(\"musicxml\")"
   ]
  },
  {
   "cell_type": "code",
   "execution_count": 5,
   "id": "b8968758-23d9-4eb5-943d-0310bd364366",
   "metadata": {},
   "outputs": [
    {
     "data": {
      "text/plain": [
       "[1, 1, 1, 1, 1, 1]"
      ]
     },
     "execution_count": 5,
     "metadata": {},
     "output_type": "execute_result"
    }
   ],
   "source": [
    "elliottCarterChord.intervalVector"
   ]
  },
  {
   "cell_type": "markdown",
   "id": "f0678115-a25e-47a4-9e42-f46c05534568",
   "metadata": {},
   "source": [
    "## Stream"
   ]
  },
  {
   "cell_type": "code",
   "execution_count": 6,
   "id": "ff6c7f40-bb0f-4e6c-9778-6e0e663e7e1b",
   "metadata": {},
   "outputs": [],
   "source": [
    "my_stream = stream.Stream()"
   ]
  },
  {
   "cell_type": "code",
   "execution_count": 7,
   "id": "bf4b7eec-99a2-49b7-9043-5884f88dba51",
   "metadata": {},
   "outputs": [],
   "source": [
    "my_stream.append(elliottCarterChord)"
   ]
  },
  {
   "cell_type": "markdown",
   "id": "111b383b-f07d-450d-a223-e6a4ad4e0d56",
   "metadata": {},
   "source": [
    "You can't append the same object twice"
   ]
  },
  {
   "cell_type": "code",
   "execution_count": 8,
   "id": "db7d02c7-3cf5-4618-aeb1-fa183640aa1c",
   "metadata": {},
   "outputs": [
    {
     "name": "stdout",
     "output_type": "stream",
     "text": [
      "the object (<music21.chord.Chord C4 D-4 E4 F#4>, id()=139675801061504 is already found in this Stream (<music21.stream.Stream 0x7f08f1a9dae0>, id()=139676390906592)\n"
     ]
    }
   ],
   "source": [
    "try:\n",
    "    my_stream.append(elliottCarterChord)\n",
    "except Exception as e:\n",
    "    print(e)"
   ]
  },
  {
   "cell_type": "markdown",
   "id": "8a5deb99-53c4-4397-8b37-861a88895e2a",
   "metadata": {},
   "source": [
    "Instead, use a copy via `repeatAppend()`"
   ]
  },
  {
   "cell_type": "code",
   "execution_count": 9,
   "id": "0f8198e3-8c8e-4b76-96a5-cba10ab6a060",
   "metadata": {},
   "outputs": [],
   "source": [
    "my_stream.repeatAppend(elliottCarterChord, 3)"
   ]
  },
  {
   "cell_type": "code",
   "execution_count": 12,
   "id": "116cc1ae-d191-4c7e-9793-acbb556c377f",
   "metadata": {},
   "outputs": [],
   "source": [
    "my_stream.show()"
   ]
  },
  {
   "cell_type": "markdown",
   "id": "1a7c2ab5-9a25-4439-b53b-1a54851217ec",
   "metadata": {},
   "source": [
    "## Chord via pitch class"
   ]
  },
  {
   "cell_type": "code",
   "execution_count": 19,
   "id": "885d6374-6dd6-49e4-a771-38d848b633e1",
   "metadata": {},
   "outputs": [],
   "source": [
    "oddChord = chord.Chord([1, 3, 7, 9, 10])"
   ]
  },
  {
   "cell_type": "markdown",
   "id": "cfa9cb32-b51d-4eb6-961d-44573564343b",
   "metadata": {},
   "source": [
    "modify length"
   ]
  },
  {
   "cell_type": "code",
   "execution_count": 39,
   "id": "3ca83f0b-33c4-4657-8bbd-828b2d883c93",
   "metadata": {},
   "outputs": [],
   "source": [
    "oddChord.duration.type = 'half'"
   ]
  },
  {
   "cell_type": "code",
   "execution_count": 20,
   "id": "e690ee7a-7920-4cc5-8539-2bb223d4a0b3",
   "metadata": {},
   "outputs": [],
   "source": [
    "# modify enharmonic in place for readability\n",
    "oddChord.pitches[-1].getHigherEnharmonic(inPlace=True)"
   ]
  },
  {
   "cell_type": "code",
   "execution_count": 40,
   "id": "5458fb57-bfc1-453b-9ae7-05b68814a0f9",
   "metadata": {},
   "outputs": [],
   "source": [
    "oddChord.show(\"MIDI\")"
   ]
  },
  {
   "cell_type": "code",
   "execution_count": 24,
   "id": "2cd88c72-e8c1-428b-b311-f66eb04affed",
   "metadata": {},
   "outputs": [
    {
     "data": {
      "text/plain": [
       "'5-28A'"
      ]
     },
     "execution_count": 24,
     "metadata": {},
     "output_type": "execute_result"
    }
   ],
   "source": [
    "oddChord.forteClass"
   ]
  },
  {
   "cell_type": "code",
   "execution_count": 35,
   "id": "82ecee36-0604-4495-82fd-42beed7b24c1",
   "metadata": {},
   "outputs": [
    {
     "name": "stdout",
     "output_type": "stream",
     "text": [
      "C# \t| C-sharp Quarter Note\n",
      "D# \t| D-sharp Quarter Note\n",
      "G \t| G-natural Quarter Note\n",
      "A \t| A-natural Quarter Note\n",
      "B- \t| B-flat Quarter Note\n"
     ]
    }
   ],
   "source": [
    "for note in oddChord.notes:\n",
    "    print(note.pitch, \"\\t|\", note.fullName)"
   ]
  },
  {
   "cell_type": "code",
   "execution_count": 38,
   "id": "f812dd34-8cca-4be1-88aa-c9d45372cbf3",
   "metadata": {},
   "outputs": [
    {
     "data": {
      "text/plain": [
       "(<music21.pitch.Pitch C#>,\n",
       " <music21.pitch.Pitch D#>,\n",
       " <music21.pitch.Pitch G>,\n",
       " <music21.pitch.Pitch A>,\n",
       " <music21.pitch.Pitch B->)"
      ]
     },
     "execution_count": 38,
     "metadata": {},
     "output_type": "execute_result"
    }
   ],
   "source": [
    "oddChord.pitches"
   ]
  },
  {
   "cell_type": "code",
   "execution_count": 37,
   "id": "7046d029-07a2-4c04-8d1d-9ac08ed28e31",
   "metadata": {},
   "outputs": [
    {
     "name": "stdout",
     "output_type": "stream",
     "text": [
      "C#\n",
      "D#\n",
      "G\n",
      "A\n",
      "B-\n"
     ]
    }
   ],
   "source": [
    "for note in oddChord.pitches:\n",
    "    print(note)"
   ]
  },
  {
   "cell_type": "markdown",
   "id": "08ed8e71-f3f2-4e32-915c-57ff9ff848bb",
   "metadata": {},
   "source": [
    "# Set Theory"
   ]
  },
  {
   "cell_type": "code",
   "execution_count": 13,
   "id": "c15d3365-9a01-4a24-a5ed-f3e83976fc06",
   "metadata": {},
   "outputs": [
    {
     "name": "stdout",
     "output_type": "stream",
     "text": [
      "[2, 3, 0, 1, 8, 4, 5, 6, 7, 9, 10, 11]\n"
     ]
    }
   ],
   "source": [
    "all_class_nums = list(range(12)) # cheate a list of integers 0 through 11\n",
    "all_class_nums = all_class_nums[2:4] + all_class_nums[0:2] + all_class_nums[8:9] + all_class_nums[4:8] + all_class_nums[9:12] # recombine\n",
    "print(all_class_nums)"
   ]
  },
  {
   "cell_type": "code",
   "execution_count": 14,
   "id": "8269ae28-eb92-4c47-95aa-6bb75bfd09c1",
   "metadata": {},
   "outputs": [],
   "source": [
    "stream_ex = stream.Stream()"
   ]
  },
  {
   "cell_type": "markdown",
   "id": "240fe50f-0d19-4184-ad52-e19499d86005",
   "metadata": {},
   "source": [
    "take in groups of three"
   ]
  },
  {
   "cell_type": "code",
   "execution_count": 15,
   "id": "d280f940-40b7-4631-bdf5-4bb3170a9bc1",
   "metadata": {},
   "outputs": [],
   "source": [
    "for i in range(0, 12, 3):\n",
    "    stream_ex.append(chord.Chord(all_class_nums[i:i + 3]))"
   ]
  },
  {
   "cell_type": "code",
   "execution_count": 17,
   "id": "19df2820-d538-49a0-8aad-a20cbdc9b410",
   "metadata": {},
   "outputs": [
    {
     "name": "stdout",
     "output_type": "stream",
     "text": [
      "<023> 3-2B [0, 2, 3] <013> [1, 1, 1, 0, 0, 0]\n",
      "<148> 3-11A [1, 4, 8] <037> [0, 0, 1, 1, 1, 0]\n",
      "<567> 3-1 [5, 6, 7] <012> [2, 1, 0, 0, 0, 0]\n",
      "<9AB> 3-1 [9, 10, 11] <012> [2, 1, 0, 0, 0, 0]\n"
     ]
    }
   ],
   "source": [
    "for c in stream_ex:\n",
    "    print(c.orderedPitchClassesString, c.forteClass, c.normalOrder, c.primeFormString, c.intervalVector)"
   ]
  },
  {
   "cell_type": "code",
   "execution_count": null,
   "id": "55e1606a-04cd-4d0f-a2b8-f69aa71970c3",
   "metadata": {},
   "outputs": [],
   "source": [
    "for c in stream_ex:\n",
    "    c.lyric = c.forteClass"
   ]
  },
  {
   "cell_type": "code",
   "execution_count": null,
   "id": "4bef4c42-20a4-4673-a43b-a1178600ea6b",
   "metadata": {},
   "outputs": [],
   "source": [
    "stream_ex.show()"
   ]
  },
  {
   "cell_type": "code",
   "execution_count": null,
   "id": "8010cf5f-4473-4f01-bca8-bccc0862e7ea",
   "metadata": {},
   "outputs": [],
   "source": []
  }
 ],
 "metadata": {
  "kernelspec": {
   "display_name": "Python 3 (ipykernel)",
   "language": "python",
   "name": "python3"
  },
  "language_info": {
   "codemirror_mode": {
    "name": "ipython",
    "version": 3
   },
   "file_extension": ".py",
   "mimetype": "text/x-python",
   "name": "python",
   "nbconvert_exporter": "python",
   "pygments_lexer": "ipython3",
   "version": "3.10.12"
  }
 },
 "nbformat": 4,
 "nbformat_minor": 5
}
